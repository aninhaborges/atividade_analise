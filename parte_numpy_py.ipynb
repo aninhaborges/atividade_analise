{
  "nbformat": 4,
  "nbformat_minor": 0,
  "metadata": {
    "colab": {
      "provenance": [],
      "authorship_tag": "ABX9TyNJ8kNL8VCsFCSVDILajktY",
      "include_colab_link": true
    },
    "kernelspec": {
      "name": "python3",
      "display_name": "Python 3"
    },
    "language_info": {
      "name": "python"
    }
  },
  "cells": [
    {
      "cell_type": "markdown",
      "metadata": {
        "id": "view-in-github",
        "colab_type": "text"
      },
      "source": [
        "<a href=\"https://colab.research.google.com/github/aninhaborges/atividade_analise/blob/main/parte_numpy_py.ipynb\" target=\"_parent\"><img src=\"https://colab.research.google.com/assets/colab-badge.svg\" alt=\"Open In Colab\"/></a>"
      ]
    },
    {
      "cell_type": "code",
      "source": [
        "'4. Iteração em um Numpy array'\n",
        "\n",
        "import numpy as np\n",
        "arr= np.array([5.5,3.8,9.0,7.5,10.0,9.9,8.5])\n",
        "def media_arr(arr)->float:\n",
        "  'Calcula a média dos valores da array'\n",
        "  soma=0\n",
        "  comprimento= len(arr)\n",
        "  for elemento in arr:\n",
        "    soma+=elemento\n",
        "  return soma/comprimento\n",
        "print(media_arr(arr))\n",
        "\n",
        "from math import sqrt\n",
        "def desvio_p(arr)->float:\n",
        "  'Calcula o desvio padrão dos valores'\n",
        "  soma1=0\n",
        "  soma2=0\n",
        "  comprimento=len(arr)\n",
        "  for elemento in arr:\n",
        "    soma1+=elemento\n",
        "  media=soma1/comprimento\n",
        "  for i in range(0,comprimento):\n",
        "    x=(arr[i]-media)**2\n",
        "    soma2+=x\n",
        "  return sqrt(soma2/comprimento)\n",
        "print(desvio_p(arr))\n"
      ],
      "metadata": {
        "id": "UAiZ7nUR44O7",
        "colab": {
          "base_uri": "https://localhost:8080/"
        },
        "outputId": "ad190799-cede-44fd-acac-e92a27b05ac1"
      },
      "execution_count": null,
      "outputs": [
        {
          "output_type": "stream",
          "name": "stdout",
          "text": [
            "7.742857142857142\n",
            "2.155959940561541\n"
          ]
        }
      ]
    },
    {
      "cell_type": "code",
      "source": [
        "from numpy import random\n",
        "x=random.randint(1,11, size=(100))\n",
        "#cria uma array com números aleatórios de 1 a 10(inclusive)\n",
        "print(x)\n",
        "print('A média dos valores é: ',x.mean())\n",
        "print('O desvio padrão dessa array é: ',x.std())\n",
        "print('O maior número é:',x.max(),', e o menor é:',x.min())\n",
        "\n",
        "\n"
      ],
      "metadata": {
        "id": "azDW93Yt4nym",
        "colab": {
          "base_uri": "https://localhost:8080/"
        },
        "outputId": "93bf68ba-4cbb-420d-acc8-6b6889fcfb2e"
      },
      "execution_count": null,
      "outputs": [
        {
          "output_type": "stream",
          "name": "stdout",
          "text": [
            "[ 7  4  9  5  6  5  2  2  2  3  2  6 10  1  3  4  3  8 10  5  4  4 10  8\n",
            "  4  8  5  1  6  1  6  1  2  9  3  8  5  8 10  2  9  8 10  4  1  4  1 10\n",
            " 10  1  7  2  4  8  4  7  7  3  9  4  9  8 10  2  7  6  5  4  7  6 10  6\n",
            "  5  6  9  3  5  5  7  3  8  3  7  5  9 10  2  6  2 10  3  4  8  6  7  9\n",
            "  2  8  5  5]\n",
            "A média dos valores é:  5.57\n",
            "O desvio padrão dessa array é:  2.783001976283883\n",
            "O maior número é: 10 , e o menor é: 1\n"
          ]
        }
      ]
    },
    {
      "cell_type": "code",
      "source": [],
      "metadata": {
        "id": "oW39dd-OqM4M"
      },
      "execution_count": null,
      "outputs": []
    },
    {
      "cell_type": "code",
      "source": [],
      "metadata": {
        "id": "aB59TkvkqM6k"
      },
      "execution_count": null,
      "outputs": []
    }
  ]
}